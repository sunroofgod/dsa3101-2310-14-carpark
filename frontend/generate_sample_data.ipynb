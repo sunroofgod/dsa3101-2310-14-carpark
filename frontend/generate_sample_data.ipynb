{
 "cells": [
  {
   "cell_type": "code",
   "execution_count": 1,
   "metadata": {},
   "outputs": [],
   "source": [
    "import pandas as pd\n",
    "from darts import TimeSeries\n",
    "import matplotlib.pyplot as plt\n",
    "import numpy as np"
   ]
  },
  {
   "cell_type": "code",
   "execution_count": 49,
   "metadata": {},
   "outputs": [],
   "source": [
    "data1 = pd.read_excel(\"raw_Cp33a45b6b_a.xlsx\")\n",
    "data2 = pd.read_excel(\"raw_Cp5_a.xlsx\")\n",
    "data3 = pd.read_excel(\"raw_Cp10_a.xlsx\")\n"
   ]
  },
  {
   "cell_type": "code",
   "execution_count": 50,
   "metadata": {},
   "outputs": [],
   "source": [
    "def give_carpark_name(x):\n",
    "    name_dict = {48:\"CP6B\",52:\"CP6B\",70:\"CP5\",76:\"CP4\",82:\"CP3\",83:\"CP3\",92:\"5B\",161:\"3A\"}\n",
    "    return name_dict[x]"
   ]
  },
  {
   "cell_type": "code",
   "execution_count": 51,
   "metadata": {},
   "outputs": [],
   "source": [
    "joint1 = pd.concat([data1,data2],ignore_index=True)\n"
   ]
  },
  {
   "cell_type": "code",
   "execution_count": 52,
   "metadata": {},
   "outputs": [],
   "source": [
    "joint1['CP'] = joint1[\"ExitId\"].apply(give_carpark_name)"
   ]
  },
  {
   "cell_type": "code",
   "execution_count": 53,
   "metadata": {},
   "outputs": [],
   "source": [
    "data3 = data3.rename(columns={\"Enter Time\":\"enter\",\"Exit time\":\"Exit\"}).drop(columns = ['report time'])\n",
    "data3[\"CP\"] = \"CP10\""
   ]
  },
  {
   "cell_type": "code",
   "execution_count": 54,
   "metadata": {},
   "outputs": [],
   "source": [
    "joint1 = joint1.drop(columns = ['ExitId'])"
   ]
  },
  {
   "cell_type": "code",
   "execution_count": 58,
   "metadata": {},
   "outputs": [],
   "source": [
    "data = pd.concat([joint1,data3],ignore_index=True)"
   ]
  },
  {
   "cell_type": "code",
   "execution_count": 59,
   "metadata": {},
   "outputs": [],
   "source": [
    "#correcting inconsistencies in time entries\n",
    "def correct_time(data,timecol,timebool):\n",
    "    temp = []\n",
    "    for i in range(len(data)):\n",
    "        if not data[timebool].iloc[i]:\n",
    "            x = pd.to_datetime(data[timecol].iloc[i], format='%d/%m/%Y %H:%M').round(freq='T')\n",
    "        else:\n",
    "            x = pd.to_datetime(data[timecol].iloc[i], format='%Y-%d-%m %H:%M:%S').round(freq='T')\n",
    "\n",
    "        temp.append(x)\n",
    "\n",
    "    return temp    \n",
    "    "
   ]
  },
  {
   "cell_type": "code",
   "execution_count": 60,
   "metadata": {},
   "outputs": [],
   "source": [
    "data[\"enter_dt\"] = correct_time(data,\"enter\",\"enter_formatted\")\n",
    "data[\"exit_dt\"] = correct_time(data,\"Exit\",\"exit_formatted\")"
   ]
  },
  {
   "cell_type": "code",
   "execution_count": 62,
   "metadata": {},
   "outputs": [],
   "source": [
    "data[\"enter_dt\"] = data[\"enter_dt\"].apply(lambda x: x.replace(year = 2023) if x.year == 2037 else x)\n",
    "data[\"enter_dt\"] = data[\"enter_dt\"].apply(lambda x: x.replace(year = 2022) if x.year == 2026 else x)"
   ]
  },
  {
   "cell_type": "code",
   "execution_count": 63,
   "metadata": {},
   "outputs": [],
   "source": [
    "data = data[(data[\"enter_dt\"].dt.year >= 2022) & (data[\"exit_dt\"].dt.year >= 2022)]"
   ]
  },
  {
   "cell_type": "code",
   "execution_count": 64,
   "metadata": {},
   "outputs": [
    {
     "name": "stdout",
     "output_type": "stream",
     "text": [
      "2022-04-01 00:00:00\n",
      "2023-04-30 23:56:00\n",
      "2022-04-01 00:00:00\n",
      "2023-04-30 23:59:00\n"
     ]
    }
   ],
   "source": [
    "print(data[\"enter_dt\"].min())\n",
    "print(data[\"enter_dt\"].max())\n",
    "print(data[\"exit_dt\"].min())\n",
    "print(data[\"exit_dt\"].max())"
   ]
  },
  {
   "cell_type": "code",
   "execution_count": 65,
   "metadata": {},
   "outputs": [
    {
     "data": {
      "text/html": [
       "<div>\n",
       "<style scoped>\n",
       "    .dataframe tbody tr th:only-of-type {\n",
       "        vertical-align: middle;\n",
       "    }\n",
       "\n",
       "    .dataframe tbody tr th {\n",
       "        vertical-align: top;\n",
       "    }\n",
       "\n",
       "    .dataframe thead th {\n",
       "        text-align: right;\n",
       "    }\n",
       "</style>\n",
       "<table border=\"1\" class=\"dataframe\">\n",
       "  <thead>\n",
       "    <tr style=\"text-align: right;\">\n",
       "      <th></th>\n",
       "      <th>IU</th>\n",
       "      <th>enter</th>\n",
       "      <th>enter_formatted</th>\n",
       "      <th>Exit</th>\n",
       "      <th>exit_formatted</th>\n",
       "      <th>hourly_du</th>\n",
       "      <th>staff_du</th>\n",
       "      <th>student_du</th>\n",
       "      <th>esp_du</th>\n",
       "      <th>CP</th>\n",
       "      <th>enter_dt</th>\n",
       "      <th>exit_dt</th>\n",
       "    </tr>\n",
       "  </thead>\n",
       "  <tbody>\n",
       "    <tr>\n",
       "      <th>0</th>\n",
       "      <td>739d68a9</td>\n",
       "      <td>2022-01-07 18:17:00</td>\n",
       "      <td>True</td>\n",
       "      <td>2022-01-07 22:21:00</td>\n",
       "      <td>True</td>\n",
       "      <td>244</td>\n",
       "      <td>\\N</td>\n",
       "      <td>\\N</td>\n",
       "      <td>\\N</td>\n",
       "      <td>CP6B</td>\n",
       "      <td>2022-07-01 18:17:00</td>\n",
       "      <td>2022-07-01 22:21:00</td>\n",
       "    </tr>\n",
       "    <tr>\n",
       "      <th>1</th>\n",
       "      <td>0</td>\n",
       "      <td>2022-02-07 00:00:00</td>\n",
       "      <td>True</td>\n",
       "      <td>2022-02-07 00:00:00</td>\n",
       "      <td>True</td>\n",
       "      <td>0</td>\n",
       "      <td>\\N</td>\n",
       "      <td>\\N</td>\n",
       "      <td>\\N</td>\n",
       "      <td>CP6B</td>\n",
       "      <td>2022-07-02 00:00:00</td>\n",
       "      <td>2022-07-02 00:00:00</td>\n",
       "    </tr>\n",
       "    <tr>\n",
       "      <th>2</th>\n",
       "      <td>28bde674</td>\n",
       "      <td>2022-01-07 22:22:00</td>\n",
       "      <td>True</td>\n",
       "      <td>2022-02-07 00:13:00</td>\n",
       "      <td>True</td>\n",
       "      <td>111</td>\n",
       "      <td>\\N</td>\n",
       "      <td>\\N</td>\n",
       "      <td>\\N</td>\n",
       "      <td>CP6B</td>\n",
       "      <td>2022-07-01 22:22:00</td>\n",
       "      <td>2022-07-02 00:13:00</td>\n",
       "    </tr>\n",
       "    <tr>\n",
       "      <th>3</th>\n",
       "      <td>336c1bbe</td>\n",
       "      <td>2022-01-07 22:53:00</td>\n",
       "      <td>True</td>\n",
       "      <td>2022-02-07 01:07:00</td>\n",
       "      <td>True</td>\n",
       "      <td>134</td>\n",
       "      <td>\\N</td>\n",
       "      <td>\\N</td>\n",
       "      <td>\\N</td>\n",
       "      <td>CP6B</td>\n",
       "      <td>2022-07-01 22:53:00</td>\n",
       "      <td>2022-07-02 01:07:00</td>\n",
       "    </tr>\n",
       "    <tr>\n",
       "      <th>4</th>\n",
       "      <td>26dfa98b</td>\n",
       "      <td>2022-02-07 08:01:00</td>\n",
       "      <td>True</td>\n",
       "      <td>2022-02-07 08:02:00</td>\n",
       "      <td>True</td>\n",
       "      <td>1</td>\n",
       "      <td>\\N</td>\n",
       "      <td>\\N</td>\n",
       "      <td>\\N</td>\n",
       "      <td>CP6B</td>\n",
       "      <td>2022-07-02 08:01:00</td>\n",
       "      <td>2022-07-02 08:02:00</td>\n",
       "    </tr>\n",
       "  </tbody>\n",
       "</table>\n",
       "</div>"
      ],
      "text/plain": [
       "         IU                enter  enter_formatted                 Exit  \\\n",
       "0  739d68a9  2022-01-07 18:17:00             True  2022-01-07 22:21:00   \n",
       "1         0  2022-02-07 00:00:00             True  2022-02-07 00:00:00   \n",
       "2  28bde674  2022-01-07 22:22:00             True  2022-02-07 00:13:00   \n",
       "3  336c1bbe  2022-01-07 22:53:00             True  2022-02-07 01:07:00   \n",
       "4  26dfa98b  2022-02-07 08:01:00             True  2022-02-07 08:02:00   \n",
       "\n",
       "   exit_formatted hourly_du staff_du student_du esp_du    CP  \\\n",
       "0            True       244       \\N         \\N     \\N  CP6B   \n",
       "1            True         0       \\N         \\N     \\N  CP6B   \n",
       "2            True       111       \\N         \\N     \\N  CP6B   \n",
       "3            True       134       \\N         \\N     \\N  CP6B   \n",
       "4            True         1       \\N         \\N     \\N  CP6B   \n",
       "\n",
       "             enter_dt             exit_dt  \n",
       "0 2022-07-01 18:17:00 2022-07-01 22:21:00  \n",
       "1 2022-07-02 00:00:00 2022-07-02 00:00:00  \n",
       "2 2022-07-01 22:22:00 2022-07-02 00:13:00  \n",
       "3 2022-07-01 22:53:00 2022-07-02 01:07:00  \n",
       "4 2022-07-02 08:01:00 2022-07-02 08:02:00  "
      ]
     },
     "execution_count": 65,
     "metadata": {},
     "output_type": "execute_result"
    }
   ],
   "source": [
    "data.head()"
   ]
  },
  {
   "cell_type": "code",
   "execution_count": 66,
   "metadata": {},
   "outputs": [],
   "source": [
    "data = data[[\"CP\",\"IU\",\"enter_dt\",\"exit_dt\"]].drop_duplicates()"
   ]
  },
  {
   "cell_type": "code",
   "execution_count": 68,
   "metadata": {},
   "outputs": [],
   "source": [
    "data = data[data[\"exit_dt\"] > data[\"enter_dt\"]]"
   ]
  },
  {
   "cell_type": "code",
   "execution_count": 78,
   "metadata": {},
   "outputs": [],
   "source": [
    "enter_df_all = data[[\"CP\",\"IU\",\"enter_dt\"]]\n",
    "exit_df_all = data[[\"CP\",\"IU\",\"exit_dt\"]]"
   ]
  },
  {
   "cell_type": "code",
   "execution_count": 79,
   "metadata": {},
   "outputs": [
    {
     "name": "stderr",
     "output_type": "stream",
     "text": [
      "C:\\Users\\dxcas\\AppData\\Local\\Temp\\ipykernel_21408\\2137482607.py:1: SettingWithCopyWarning: \n",
      "A value is trying to be set on a copy of a slice from a DataFrame\n",
      "\n",
      "See the caveats in the documentation: https://pandas.pydata.org/pandas-docs/stable/user_guide/indexing.html#returning-a-view-versus-a-copy\n",
      "  enter_df_all.sort_values(by = [\"CP\",\"enter_dt\"],inplace=True)\n",
      "C:\\Users\\dxcas\\AppData\\Local\\Temp\\ipykernel_21408\\2137482607.py:2: SettingWithCopyWarning: \n",
      "A value is trying to be set on a copy of a slice from a DataFrame\n",
      "\n",
      "See the caveats in the documentation: https://pandas.pydata.org/pandas-docs/stable/user_guide/indexing.html#returning-a-view-versus-a-copy\n",
      "  exit_df_all.sort_values(by = [\"CP\",\"exit_dt\"],inplace=True)\n"
     ]
    }
   ],
   "source": [
    "enter_df_all.sort_values(by = [\"CP\",\"enter_dt\"],inplace=True)\n",
    "exit_df_all.sort_values(by = [\"CP\",\"exit_dt\"],inplace=True)\n"
   ]
  },
  {
   "cell_type": "code",
   "execution_count": 81,
   "metadata": {},
   "outputs": [
    {
     "name": "stderr",
     "output_type": "stream",
     "text": [
      "C:\\Users\\dxcas\\AppData\\Local\\Temp\\ipykernel_21408\\525524465.py:5: UserWarning: Boolean Series key will be reindexed to match DataFrame index.\n",
      "  exit_df = exit_df_all[enter_df_all[\"CP\"] == i]\n",
      "C:\\Users\\dxcas\\AppData\\Local\\Temp\\ipykernel_21408\\525524465.py:5: UserWarning: Boolean Series key will be reindexed to match DataFrame index.\n",
      "  exit_df = exit_df_all[enter_df_all[\"CP\"] == i]\n",
      "C:\\Users\\dxcas\\AppData\\Local\\Temp\\ipykernel_21408\\525524465.py:5: UserWarning: Boolean Series key will be reindexed to match DataFrame index.\n",
      "  exit_df = exit_df_all[enter_df_all[\"CP\"] == i]\n",
      "C:\\Users\\dxcas\\AppData\\Local\\Temp\\ipykernel_21408\\525524465.py:5: UserWarning: Boolean Series key will be reindexed to match DataFrame index.\n",
      "  exit_df = exit_df_all[enter_df_all[\"CP\"] == i]\n",
      "C:\\Users\\dxcas\\AppData\\Local\\Temp\\ipykernel_21408\\525524465.py:5: UserWarning: Boolean Series key will be reindexed to match DataFrame index.\n",
      "  exit_df = exit_df_all[enter_df_all[\"CP\"] == i]\n",
      "C:\\Users\\dxcas\\AppData\\Local\\Temp\\ipykernel_21408\\525524465.py:5: UserWarning: Boolean Series key will be reindexed to match DataFrame index.\n",
      "  exit_df = exit_df_all[enter_df_all[\"CP\"] == i]\n",
      "C:\\Users\\dxcas\\AppData\\Local\\Temp\\ipykernel_21408\\525524465.py:5: UserWarning: Boolean Series key will be reindexed to match DataFrame index.\n",
      "  exit_df = exit_df_all[enter_df_all[\"CP\"] == i]\n"
     ]
    }
   ],
   "source": [
    "change_data_frame = pd.DataFrame(columns = [\"dt\",\"CP\",\"delta\",\"delta_nett\"])\n",
    "\n",
    "for i in data[\"CP\"].drop_duplicates():\n",
    "    enter_df = enter_df_all[enter_df_all[\"CP\"] == i]\n",
    "    exit_df = exit_df_all[enter_df_all[\"CP\"] == i]\n",
    "    # Log number of entries/exits at each timestamp\n",
    "    enter_df = enter_df.groupby(\"enter_dt\").size().reset_index(name = \"delta\")\n",
    "    exit_df = exit_df.groupby(\"exit_dt\").size().reset_index(name = \"delta\")\n",
    "    enter_df[\"dt\"] = enter_df[\"enter_dt\"]\n",
    "    exit_df[\"dt\"] = exit_df[\"exit_dt\"]\n",
    "    enter_df[\"delta_nett\"] = enter_df[\"delta\"]\n",
    "    exit_df[\"delta_nett\"] = exit_df[\"delta\"] * -1\n",
    "\n",
    "    start_datetime_enter = enter_df[\"dt\"].min()\n",
    "    end_datetime_enter = enter_df[\"dt\"].max()\n",
    "    minute_range_enter = pd.date_range(start = start_datetime_enter, end = end_datetime_enter, freq = \"T\")\n",
    "    temp_df = pd.DataFrame({'dt':minute_range_enter})\n",
    "    enter_df = pd.merge(temp_df,enter_df, on = 'dt', how = 'left').fillna(0).drop('enter_dt',axis = 1)\n",
    "\n",
    "    start_datetime_exit = exit_df[\"dt\"].min()\n",
    "    end_datetime_exit = exit_df[\"dt\"].max()\n",
    "    minute_range_exit = pd.date_range(start = start_datetime_exit, end = end_datetime_exit, freq = \"T\")\n",
    "    temp_df = pd.DataFrame({'dt':minute_range_exit})\n",
    "    exit_df = pd.merge(temp_df,exit_df, on = 'dt', how = 'left').fillna(0).drop('exit_dt',axis = 1)\n",
    "\n",
    "    enter_df[\"CP\"] = i\n",
    "    exit_df[\"CP\"] = i\n",
    "\n",
    "    change_data_frame = pd.concat([change_data_frame,enter_df,exit_df],ignore_index=True)"
   ]
  },
  {
   "cell_type": "code",
   "execution_count": 83,
   "metadata": {},
   "outputs": [],
   "source": [
    "nett_df = change_data_frame[[\"CP\",\"dt\",\"delta_nett\"]]"
   ]
  },
  {
   "cell_type": "code",
   "execution_count": 89,
   "metadata": {},
   "outputs": [],
   "source": [
    "nett_df_adj = nett_df.groupby([\"CP\",\"dt\"]).sum(\"delta_nett\").reset_index().sort_values([\"CP\",\"dt\"])\n",
    "#nett_df_adj[\"capacity\"] = nett_df_adj[\"delta_nett\"].cumsum()"
   ]
  },
  {
   "cell_type": "code",
   "execution_count": 93,
   "metadata": {},
   "outputs": [],
   "source": [
    "nett_df_adj['num_occupied'] = nett_df_adj.groupby(\"CP\")[\"delta_nett\"].cumsum()"
   ]
  },
  {
   "cell_type": "code",
   "execution_count": 94,
   "metadata": {},
   "outputs": [
    {
     "data": {
      "text/html": [
       "<div>\n",
       "<style scoped>\n",
       "    .dataframe tbody tr th:only-of-type {\n",
       "        vertical-align: middle;\n",
       "    }\n",
       "\n",
       "    .dataframe tbody tr th {\n",
       "        vertical-align: top;\n",
       "    }\n",
       "\n",
       "    .dataframe thead th {\n",
       "        text-align: right;\n",
       "    }\n",
       "</style>\n",
       "<table border=\"1\" class=\"dataframe\">\n",
       "  <thead>\n",
       "    <tr style=\"text-align: right;\">\n",
       "      <th></th>\n",
       "      <th>CP</th>\n",
       "      <th>dt</th>\n",
       "      <th>delta_nett</th>\n",
       "      <th>num_occupied</th>\n",
       "    </tr>\n",
       "  </thead>\n",
       "  <tbody>\n",
       "    <tr>\n",
       "      <th>0</th>\n",
       "      <td>3A</td>\n",
       "      <td>2022-04-01 04:02:00</td>\n",
       "      <td>1.0</td>\n",
       "      <td>1.0</td>\n",
       "    </tr>\n",
       "    <tr>\n",
       "      <th>1</th>\n",
       "      <td>3A</td>\n",
       "      <td>2022-04-01 04:03:00</td>\n",
       "      <td>0.0</td>\n",
       "      <td>1.0</td>\n",
       "    </tr>\n",
       "    <tr>\n",
       "      <th>2</th>\n",
       "      <td>3A</td>\n",
       "      <td>2022-04-01 04:04:00</td>\n",
       "      <td>0.0</td>\n",
       "      <td>1.0</td>\n",
       "    </tr>\n",
       "    <tr>\n",
       "      <th>3</th>\n",
       "      <td>3A</td>\n",
       "      <td>2022-04-01 04:05:00</td>\n",
       "      <td>0.0</td>\n",
       "      <td>1.0</td>\n",
       "    </tr>\n",
       "    <tr>\n",
       "      <th>4</th>\n",
       "      <td>3A</td>\n",
       "      <td>2022-04-01 04:06:00</td>\n",
       "      <td>0.0</td>\n",
       "      <td>1.0</td>\n",
       "    </tr>\n",
       "    <tr>\n",
       "      <th>...</th>\n",
       "      <td>...</td>\n",
       "      <td>...</td>\n",
       "      <td>...</td>\n",
       "      <td>...</td>\n",
       "    </tr>\n",
       "    <tr>\n",
       "      <th>3218600</th>\n",
       "      <td>CP6B</td>\n",
       "      <td>2023-04-30 22:43:00</td>\n",
       "      <td>0.0</td>\n",
       "      <td>1.0</td>\n",
       "    </tr>\n",
       "    <tr>\n",
       "      <th>3218601</th>\n",
       "      <td>CP6B</td>\n",
       "      <td>2023-04-30 22:44:00</td>\n",
       "      <td>0.0</td>\n",
       "      <td>1.0</td>\n",
       "    </tr>\n",
       "    <tr>\n",
       "      <th>3218602</th>\n",
       "      <td>CP6B</td>\n",
       "      <td>2023-04-30 22:45:00</td>\n",
       "      <td>0.0</td>\n",
       "      <td>1.0</td>\n",
       "    </tr>\n",
       "    <tr>\n",
       "      <th>3218603</th>\n",
       "      <td>CP6B</td>\n",
       "      <td>2023-04-30 22:46:00</td>\n",
       "      <td>0.0</td>\n",
       "      <td>1.0</td>\n",
       "    </tr>\n",
       "    <tr>\n",
       "      <th>3218604</th>\n",
       "      <td>CP6B</td>\n",
       "      <td>2023-04-30 22:47:00</td>\n",
       "      <td>-1.0</td>\n",
       "      <td>0.0</td>\n",
       "    </tr>\n",
       "  </tbody>\n",
       "</table>\n",
       "<p>3218605 rows × 4 columns</p>\n",
       "</div>"
      ],
      "text/plain": [
       "           CP                  dt  delta_nett  num_occupied\n",
       "0          3A 2022-04-01 04:02:00         1.0           1.0\n",
       "1          3A 2022-04-01 04:03:00         0.0           1.0\n",
       "2          3A 2022-04-01 04:04:00         0.0           1.0\n",
       "3          3A 2022-04-01 04:05:00         0.0           1.0\n",
       "4          3A 2022-04-01 04:06:00         0.0           1.0\n",
       "...       ...                 ...         ...           ...\n",
       "3218600  CP6B 2023-04-30 22:43:00         0.0           1.0\n",
       "3218601  CP6B 2023-04-30 22:44:00         0.0           1.0\n",
       "3218602  CP6B 2023-04-30 22:45:00         0.0           1.0\n",
       "3218603  CP6B 2023-04-30 22:46:00         0.0           1.0\n",
       "3218604  CP6B 2023-04-30 22:47:00        -1.0           0.0\n",
       "\n",
       "[3218605 rows x 4 columns]"
      ]
     },
     "execution_count": 94,
     "metadata": {},
     "output_type": "execute_result"
    }
   ],
   "source": [
    "nett_df_adj"
   ]
  },
  {
   "cell_type": "code",
   "execution_count": 103,
   "metadata": {},
   "outputs": [],
   "source": [
    "sample = nett_df_adj[nett_df_adj[\"CP\"] == \"CP4\"]\n",
    "series = TimeSeries.from_dataframe(sample,time_col=\"dt\",value_cols=\"num_occupied\")"
   ]
  },
  {
   "cell_type": "code",
   "execution_count": 106,
   "metadata": {},
   "outputs": [],
   "source": [
    "nett_df_adj.to_csv(\"sample_data_frontend.csv\")"
   ]
  }
 ],
 "metadata": {
  "kernelspec": {
   "display_name": "Python 3",
   "language": "python",
   "name": "python3"
  },
  "language_info": {
   "codemirror_mode": {
    "name": "ipython",
    "version": 3
   },
   "file_extension": ".py",
   "mimetype": "text/x-python",
   "name": "python",
   "nbconvert_exporter": "python",
   "pygments_lexer": "ipython3",
   "version": "3.11.4"
  }
 },
 "nbformat": 4,
 "nbformat_minor": 2
}
